{
  "cells": [
    {
      "cell_type": "code",
      "execution_count": 41,
      "metadata": {
        "colab": {
          "base_uri": "https://localhost:8080/",
          "height": 206
        },
        "id": "2XLsapM1XimQ",
        "outputId": "24879522-ffaa-412e-962e-62e899d20f56"
      },
      "outputs": [
        {
          "data": {
            "text/html": [
              "<div>\n",
              "<style scoped>\n",
              "    .dataframe tbody tr th:only-of-type {\n",
              "        vertical-align: middle;\n",
              "    }\n",
              "\n",
              "    .dataframe tbody tr th {\n",
              "        vertical-align: top;\n",
              "    }\n",
              "\n",
              "    .dataframe thead th {\n",
              "        text-align: right;\n",
              "    }\n",
              "</style>\n",
              "<table border=\"1\" class=\"dataframe\">\n",
              "  <thead>\n",
              "    <tr style=\"text-align: right;\">\n",
              "      <th></th>\n",
              "      <th>Grade</th>\n",
              "      <th>Year</th>\n",
              "      <th>Category</th>\n",
              "      <th>Number Tested</th>\n",
              "      <th>Mean Scale Score</th>\n",
              "      <th># Level 1</th>\n",
              "      <th>% Level 1</th>\n",
              "      <th># Level 2</th>\n",
              "      <th>% Level 2</th>\n",
              "      <th># Level 3</th>\n",
              "      <th>% Level 3</th>\n",
              "      <th># Level 4</th>\n",
              "      <th>% Level 4</th>\n",
              "      <th># Level 3+4</th>\n",
              "      <th>% Level 3+4</th>\n",
              "    </tr>\n",
              "  </thead>\n",
              "  <tbody>\n",
              "    <tr>\n",
              "      <th>0</th>\n",
              "      <td>3</td>\n",
              "      <td>2013</td>\n",
              "      <td>ELL</td>\n",
              "      <td>12273</td>\n",
              "      <td>282</td>\n",
              "      <td>6307</td>\n",
              "      <td>51.4</td>\n",
              "      <td>4028</td>\n",
              "      <td>32.8</td>\n",
              "      <td>1487</td>\n",
              "      <td>12.1</td>\n",
              "      <td>451</td>\n",
              "      <td>3.7</td>\n",
              "      <td>1938</td>\n",
              "      <td>15.8</td>\n",
              "    </tr>\n",
              "    <tr>\n",
              "      <th>1</th>\n",
              "      <td>3</td>\n",
              "      <td>2014</td>\n",
              "      <td>ELL</td>\n",
              "      <td>10539</td>\n",
              "      <td>283</td>\n",
              "      <td>5289</td>\n",
              "      <td>50.2</td>\n",
              "      <td>3220</td>\n",
              "      <td>30.6</td>\n",
              "      <td>1547</td>\n",
              "      <td>14.7</td>\n",
              "      <td>483</td>\n",
              "      <td>4.6</td>\n",
              "      <td>2030</td>\n",
              "      <td>19.3</td>\n",
              "    </tr>\n",
              "    <tr>\n",
              "      <th>2</th>\n",
              "      <td>3</td>\n",
              "      <td>2015</td>\n",
              "      <td>ELL</td>\n",
              "      <td>10825</td>\n",
              "      <td>284</td>\n",
              "      <td>5578</td>\n",
              "      <td>51.5</td>\n",
              "      <td>3152</td>\n",
              "      <td>29.1</td>\n",
              "      <td>1373</td>\n",
              "      <td>12.7</td>\n",
              "      <td>722</td>\n",
              "      <td>6.7</td>\n",
              "      <td>2095</td>\n",
              "      <td>19.4</td>\n",
              "    </tr>\n",
              "    <tr>\n",
              "      <th>3</th>\n",
              "      <td>4</td>\n",
              "      <td>2013</td>\n",
              "      <td>ELL</td>\n",
              "      <td>10554</td>\n",
              "      <td>278</td>\n",
              "      <td>5697</td>\n",
              "      <td>54.0</td>\n",
              "      <td>3346</td>\n",
              "      <td>31.7</td>\n",
              "      <td>1157</td>\n",
              "      <td>11.0</td>\n",
              "      <td>354</td>\n",
              "      <td>3.4</td>\n",
              "      <td>1511</td>\n",
              "      <td>14.3</td>\n",
              "    </tr>\n",
              "    <tr>\n",
              "      <th>4</th>\n",
              "      <td>4</td>\n",
              "      <td>2014</td>\n",
              "      <td>ELL</td>\n",
              "      <td>10932</td>\n",
              "      <td>280</td>\n",
              "      <td>5722</td>\n",
              "      <td>52.3</td>\n",
              "      <td>3270</td>\n",
              "      <td>29.9</td>\n",
              "      <td>1329</td>\n",
              "      <td>12.2</td>\n",
              "      <td>611</td>\n",
              "      <td>5.6</td>\n",
              "      <td>1940</td>\n",
              "      <td>17.7</td>\n",
              "    </tr>\n",
              "  </tbody>\n",
              "</table>\n",
              "</div>"
            ],
            "text/plain": [
              "  Grade  Year Category  Number Tested  Mean Scale Score  # Level 1  % Level 1  \\\n",
              "0     3  2013      ELL          12273               282       6307       51.4   \n",
              "1     3  2014      ELL          10539               283       5289       50.2   \n",
              "2     3  2015      ELL          10825               284       5578       51.5   \n",
              "3     4  2013      ELL          10554               278       5697       54.0   \n",
              "4     4  2014      ELL          10932               280       5722       52.3   \n",
              "\n",
              "   # Level 2  % Level 2  # Level 3  % Level 3  # Level 4  % Level 4  \\\n",
              "0       4028       32.8       1487       12.1        451        3.7   \n",
              "1       3220       30.6       1547       14.7        483        4.6   \n",
              "2       3152       29.1       1373       12.7        722        6.7   \n",
              "3       3346       31.7       1157       11.0        354        3.4   \n",
              "4       3270       29.9       1329       12.2        611        5.6   \n",
              "\n",
              "   # Level 3+4  % Level 3+4  \n",
              "0         1938         15.8  \n",
              "1         2030         19.3  \n",
              "2         2095         19.4  \n",
              "3         1511         14.3  \n",
              "4         1940         17.7  "
            ]
          },
          "execution_count": 41,
          "metadata": {},
          "output_type": "execute_result"
        }
      ],
      "source": [
        "import pandas as pd\n",
        "import matplotlib.pyplot as plt\n",
        "path = '2013_-_2015_New_York_State_Mathematics_Exam.csv'\n",
        "dt = pd.read_csv(path)\n",
        "dt.head()"
      ]
    },
    {
      "cell_type": "code",
      "execution_count": 42,
      "metadata": {
        "colab": {
          "base_uri": "https://localhost:8080/"
        },
        "id": "Db2vFaeuYw_M",
        "outputId": "1b496227-cff6-4ed5-f4b8-aac86af04519"
      },
      "outputs": [
        {
          "data": {
            "text/plain": [
              "(231, 15)"
            ]
          },
          "execution_count": 42,
          "metadata": {},
          "output_type": "execute_result"
        }
      ],
      "source": [
        "dt.shape"
      ]
    },
    {
      "cell_type": "code",
      "execution_count": 43,
      "metadata": {
        "colab": {
          "base_uri": "https://localhost:8080/"
        },
        "id": "6b0WW1aUZwzN",
        "outputId": "f88eb891-d2bf-4206-9727-1e531069e4ce"
      },
      "outputs": [
        {
          "data": {
            "text/plain": [
              "67301"
            ]
          },
          "execution_count": 43,
          "metadata": {},
          "output_type": "execute_result"
        }
      ],
      "source": [
        "dt['Number Tested'][81]"
      ]
    },
    {
      "cell_type": "code",
      "execution_count": 44,
      "metadata": {
        "colab": {
          "base_uri": "https://localhost:8080/",
          "height": 35
        },
        "id": "-NRA1CVBbnNG",
        "outputId": "5cac1a7f-464f-41c2-8f92-786f2bcb8cfd"
      },
      "outputs": [
        {
          "data": {
            "text/plain": [
              "'Asian'"
            ]
          },
          "execution_count": 44,
          "metadata": {},
          "output_type": "execute_result"
        }
      ],
      "source": [
        "dt['Category'][63]"
      ]
    },
    {
      "cell_type": "code",
      "execution_count": 45,
      "metadata": {
        "colab": {
          "base_uri": "https://localhost:8080/",
          "height": 174
        },
        "id": "oo7XTCFybdQ2",
        "outputId": "30911179-957a-4cbc-bf52-32b5c7893c2f"
      },
      "outputs": [
        {
          "data": {
            "text/html": [
              "<div>\n",
              "<style scoped>\n",
              "    .dataframe tbody tr th:only-of-type {\n",
              "        vertical-align: middle;\n",
              "    }\n",
              "\n",
              "    .dataframe tbody tr th {\n",
              "        vertical-align: top;\n",
              "    }\n",
              "\n",
              "    .dataframe thead th {\n",
              "        text-align: right;\n",
              "    }\n",
              "</style>\n",
              "<table border=\"1\" class=\"dataframe\">\n",
              "  <thead>\n",
              "    <tr style=\"text-align: right;\">\n",
              "      <th></th>\n",
              "      <th>Race</th>\n",
              "      <th>Students</th>\n",
              "    </tr>\n",
              "  </thead>\n",
              "  <tbody>\n",
              "    <tr>\n",
              "      <th>0</th>\n",
              "      <td>Asian</td>\n",
              "      <td>67301</td>\n",
              "    </tr>\n",
              "    <tr>\n",
              "      <th>1</th>\n",
              "      <td>Black</td>\n",
              "      <td>112804</td>\n",
              "    </tr>\n",
              "    <tr>\n",
              "      <th>2</th>\n",
              "      <td>Hispanic</td>\n",
              "      <td>171091</td>\n",
              "    </tr>\n",
              "    <tr>\n",
              "      <th>3</th>\n",
              "      <td>White</td>\n",
              "      <td>65249</td>\n",
              "    </tr>\n",
              "  </tbody>\n",
              "</table>\n",
              "</div>"
            ],
            "text/plain": [
              "       Race  Students\n",
              "0     Asian     67301\n",
              "1     Black    112804\n",
              "2  Hispanic    171091\n",
              "3     White     65249"
            ]
          },
          "execution_count": 45,
          "metadata": {},
          "output_type": "execute_result"
        }
      ],
      "source": [
        "demo = pd.DataFrame({'Race':[dt['Category'][63],dt['Category'][84],dt['Category'][105],dt['Category'][126]],\n",
        "                     'Students':[dt['Number Tested'][81],dt['Number Tested'][102],dt['Number Tested'][123],dt['Number Tested'][144]]})\n",
        "demo"
      ]
    },
    {
      "cell_type": "code",
      "execution_count": 46,
      "metadata": {
        "colab": {
          "base_uri": "https://localhost:8080/",
          "height": 575
        },
        "id": "3S3Hi43rcd91",
        "outputId": "a4e14d27-4747-42f9-91c3-414d06ab80fb"
      },
      "outputs": [
        {
          "data": {
            "image/png": "[encoded data removed]",
            "text/plain": [
              "<Figure size 720x720 with 1 Axes>"
            ]
          },
          "metadata": {},
          "output_type": "display_data"
        }
      ],
      "source": [
        "demop = demo.groupby(['Race']).sum().plot(kind='pie',y='Students',figsize=(10,10),autopct='%1.1f%%')\n",
        "demop.patch.set_facecolor('lightgrey')\n"
      ]
    },
    {
      "cell_type": "code",
      "execution_count": 47,
      "metadata": {
        "colab": {
          "base_uri": "https://localhost:8080/",
          "height": 143
        },
        "id": "LyXSf8pNgunC",
        "outputId": "392afb1b-e732-44e5-b363-95103db74287"
      },
      "outputs": [
        {
          "data": {
            "text/html": [
              "<div>\n",
              "<style scoped>\n",
              "    .dataframe tbody tr th:only-of-type {\n",
              "        vertical-align: middle;\n",
              "    }\n",
              "\n",
              "    .dataframe tbody tr th {\n",
              "        vertical-align: top;\n",
              "    }\n",
              "\n",
              "    .dataframe thead th {\n",
              "        text-align: right;\n",
              "    }\n",
              "</style>\n",
              "<table border=\"1\" class=\"dataframe\">\n",
              "  <thead>\n",
              "    <tr style=\"text-align: right;\">\n",
              "      <th></th>\n",
              "      <th>Lang</th>\n",
              "      <th>Students</th>\n",
              "    </tr>\n",
              "  </thead>\n",
              "  <tbody>\n",
              "    <tr>\n",
              "      <th>0</th>\n",
              "      <td>ELL</td>\n",
              "      <td>59301</td>\n",
              "    </tr>\n",
              "    <tr>\n",
              "      <th>1</th>\n",
              "      <td>EP</td>\n",
              "      <td>338958</td>\n",
              "    </tr>\n",
              "    <tr>\n",
              "      <th>2</th>\n",
              "      <td>Former ELL</td>\n",
              "      <td>23679</td>\n",
              "    </tr>\n",
              "  </tbody>\n",
              "</table>\n",
              "</div>"
            ],
            "text/plain": [
              "         Lang  Students\n",
              "0         ELL     59301\n",
              "1          EP    338958\n",
              "2  Former ELL     23679"
            ]
          },
          "execution_count": 47,
          "metadata": {},
          "output_type": "execute_result"
        }
      ],
      "source": [
        "eng = pd.DataFrame({'Lang':[dt['Category'][18],dt['Category'][39],dt['Category'][60]],\n",
        "                    'Students':[dt['Number Tested'][18],dt['Number Tested'][39],dt['Number Tested'][60]]})\n",
        "eng"
      ]
    },
    {
      "cell_type": "code",
      "execution_count": 48,
      "metadata": {
        "colab": {
          "base_uri": "https://localhost:8080/",
          "height": 592
        },
        "id": "6Tnj_FYHikeS",
        "outputId": "b519a967-8989-43d7-c999-d9a94e5ad4e7"
      },
      "outputs": [
        {
          "data": {
            "text/plain": [
              "<AxesSubplot:ylabel='Students'>"
            ]
          },
          "execution_count": 48,
          "metadata": {},
          "output_type": "execute_result"
        },
        {
          "data": {
            "image/png": "[encoded data removed]",
            "text/plain": [
              "<Figure size 720x720 with 1 Axes>"
            ]
          },
          "metadata": {},
          "output_type": "display_data"
        }
      ],
      "source": [
        "eng.groupby(['Lang']).sum().plot(kind='pie',y='Students',figsize=(10,10),autopct='%1.1f%%')"
      ]
    },
    {
      "cell_type": "code",
      "execution_count": 49,
      "metadata": {
        "colab": {
          "base_uri": "https://localhost:8080/",
          "height": 112
        },
        "id": "yUMQ__UPitUW",
        "outputId": "9fa857c1-d8b6-40ca-dc56-fa13d69a9ab7"
      },
      "outputs": [
        {
          "data": {
            "text/html": [
              "<div>\n",
              "<style scoped>\n",
              "    .dataframe tbody tr th:only-of-type {\n",
              "        vertical-align: middle;\n",
              "    }\n",
              "\n",
              "    .dataframe tbody tr th {\n",
              "        vertical-align: top;\n",
              "    }\n",
              "\n",
              "    .dataframe thead th {\n",
              "        text-align: right;\n",
              "    }\n",
              "</style>\n",
              "<table border=\"1\" class=\"dataframe\">\n",
              "  <thead>\n",
              "    <tr style=\"text-align: right;\">\n",
              "      <th></th>\n",
              "      <th>Sex</th>\n",
              "      <th>Students</th>\n",
              "    </tr>\n",
              "  </thead>\n",
              "  <tbody>\n",
              "    <tr>\n",
              "      <th>0</th>\n",
              "      <td>Female</td>\n",
              "      <td>205112</td>\n",
              "    </tr>\n",
              "    <tr>\n",
              "      <th>1</th>\n",
              "      <td>Male</td>\n",
              "      <td>216698</td>\n",
              "    </tr>\n",
              "  </tbody>\n",
              "</table>\n",
              "</div>"
            ],
            "text/plain": [
              "      Sex  Students\n",
              "0  Female    205112\n",
              "1    Male    216698"
            ]
          },
          "execution_count": 49,
          "metadata": {},
          "output_type": "execute_result"
        }
      ],
      "source": [
        "sex = pd.DataFrame({'Sex':[dt['Category'][165],dt['Category'][186]],\n",
        "                    'Students':[dt['Number Tested'][165],dt['Number Tested'][186]]})\n",
        "sex"
      ]
    },
    {
      "cell_type": "code",
      "execution_count": 50,
      "metadata": {
        "colab": {
          "base_uri": "https://localhost:8080/",
          "height": 592
        },
        "id": "b9TGSU3fjhSD",
        "outputId": "6d9a19d9-3954-405f-d8d7-d6a38112032a"
      },
      "outputs": [
        {
          "data": {
            "text/plain": [
              "<AxesSubplot:ylabel='Students'>"
            ]
          },
          "execution_count": 50,
          "metadata": {},
          "output_type": "execute_result"
        },
        {
          "data": {
            "image/png": "[encoded data removed]",
            "text/plain": [
              "<Figure size 720x720 with 1 Axes>"
            ]
          },
          "metadata": {},
          "output_type": "display_data"
        }
      ],
      "source": [
        "sex.groupby(['Sex']).sum().plot(kind='pie',y='Students',figsize=(10,10),autopct='%1.1f%%')"
      ]
    },
    {
      "cell_type": "code",
      "execution_count": 51,
      "metadata": {
        "colab": {
          "base_uri": "https://localhost:8080/",
          "height": 112
        },
        "id": "3SZ8Vsoak0TZ",
        "outputId": "a3181154-ed30-4166-d98f-92087b4e06cf"
      },
      "outputs": [
        {
          "data": {
            "text/html": [
              "<div>\n",
              "<style scoped>\n",
              "    .dataframe tbody tr th:only-of-type {\n",
              "        vertical-align: middle;\n",
              "    }\n",
              "\n",
              "    .dataframe tbody tr th {\n",
              "        vertical-align: top;\n",
              "    }\n",
              "\n",
              "    .dataframe thead th {\n",
              "        text-align: right;\n",
              "    }\n",
              "</style>\n",
              "<table border=\"1\" class=\"dataframe\">\n",
              "  <thead>\n",
              "    <tr style=\"text-align: right;\">\n",
              "      <th></th>\n",
              "      <th>Able</th>\n",
              "      <th>Students</th>\n",
              "    </tr>\n",
              "  </thead>\n",
              "  <tbody>\n",
              "    <tr>\n",
              "      <th>0</th>\n",
              "      <td>Not SWD</td>\n",
              "      <td>342478</td>\n",
              "    </tr>\n",
              "    <tr>\n",
              "      <th>1</th>\n",
              "      <td>SWD</td>\n",
              "      <td>79460</td>\n",
              "    </tr>\n",
              "  </tbody>\n",
              "</table>\n",
              "</div>"
            ],
            "text/plain": [
              "      Able  Students\n",
              "0  Not SWD    342478\n",
              "1      SWD     79460"
            ]
          },
          "execution_count": 51,
          "metadata": {},
          "output_type": "execute_result"
        }
      ],
      "source": [
        "able = pd.DataFrame({'Able':[dt['Category'][207],dt['Category'][228]],\n",
        "                     'Students':[dt['Number Tested'][207],dt['Number Tested'][228]]})\n",
        "able"
      ]
    },
    {
      "cell_type": "code",
      "execution_count": 52,
      "metadata": {
        "colab": {
          "base_uri": "https://localhost:8080/",
          "height": 592
        },
        "id": "Q6rNS754nAMG",
        "outputId": "37128d8b-e187-4888-c8f2-1b7e80fe478c"
      },
      "outputs": [
        {
          "data": {
            "text/plain": [
              "<AxesSubplot:ylabel='Students'>"
            ]
          },
          "execution_count": 52,
          "metadata": {},
          "output_type": "execute_result"
        },
        {
          "data": {
            "image/png": "[encoded data removed]",
            "text/plain": [
              "<Figure size 720x720 with 1 Axes>"
            ]
          },
          "metadata": {},
          "output_type": "display_data"
        }
      ],
      "source": [
        "able.groupby(['Able']).sum().plot(kind='pie',y='Students',figsize=(10,10),autopct='%1.1f%%')"
      ]
    },
    {
      "cell_type": "code",
      "execution_count": 53,
      "metadata": {
        "colab": {
          "base_uri": "https://localhost:8080/"
        },
        "id": "Mobw73tOrlYV",
        "outputId": "bcb9fa4b-b7bf-4929-8677-a98e9a516876"
      },
      "outputs": [
        {
          "data": {
            "text/plain": [
              "277.33"
            ]
          },
          "execution_count": 53,
          "metadata": {},
          "output_type": "execute_result"
        }
      ],
      "source": [
        "ell = round(dt['Mean Scale Score'][18:21].mean(),2)\n",
        "ell"
      ]
    },
    {
      "cell_type": "code",
      "execution_count": 54,
      "metadata": {
        "colab": {
          "base_uri": "https://localhost:8080/"
        },
        "id": "SQbQxHfUr6ej",
        "outputId": "16a9cf08-dff5-4211-8b5a-8f0cb66cdf03"
      },
      "outputs": [
        {
          "data": {
            "text/plain": [
              "304.0"
            ]
          },
          "execution_count": 54,
          "metadata": {},
          "output_type": "execute_result"
        }
      ],
      "source": [
        "ep = round(dt['Mean Scale Score'][39:42].mean(),2)\n",
        "ep"
      ]
    },
    {
      "cell_type": "code",
      "execution_count": 55,
      "metadata": {
        "colab": {
          "base_uri": "https://localhost:8080/"
        },
        "id": "oMqXtsO1sEXs",
        "outputId": "b425bea7-31f4-4ac2-c7c5-85ab3c4c7465"
      },
      "outputs": [
        {
          "data": {
            "text/plain": [
              "306.33"
            ]
          },
          "execution_count": 55,
          "metadata": {},
          "output_type": "execute_result"
        }
      ],
      "source": [
        "fell = round(dt['Mean Scale Score'][60:63].mean(),2)\n",
        "fell"
      ]
    },
    {
      "cell_type": "code",
      "execution_count": 56,
      "metadata": {
        "colab": {
          "base_uri": "https://localhost:8080/"
        },
        "id": "WyL7hL__tYi3",
        "outputId": "8ec07dfe-038f-4b6b-f26d-c4a3e0a8d238"
      },
      "outputs": [
        {
          "data": {
            "text/plain": [
              "328.67"
            ]
          },
          "execution_count": 56,
          "metadata": {},
          "output_type": "execute_result"
        }
      ],
      "source": [
        "asian = round(dt['Mean Scale Score'][81:84].mean(),2)\n",
        "asian"
      ]
    },
    {
      "cell_type": "code",
      "execution_count": 57,
      "metadata": {
        "colab": {
          "base_uri": "https://localhost:8080/"
        },
        "id": "UjHP3J38tnGR",
        "outputId": "89233cce-000e-4654-bab1-4367dbae57db"
      },
      "outputs": [
        {
          "data": {
            "text/plain": [
              "286.33"
            ]
          },
          "execution_count": 57,
          "metadata": {},
          "output_type": "execute_result"
        }
      ],
      "source": [
        "black = round(dt['Mean Scale Score'][102:105].mean(),2)\n",
        "black"
      ]
    },
    {
      "cell_type": "code",
      "execution_count": 58,
      "metadata": {
        "colab": {
          "base_uri": "https://localhost:8080/"
        },
        "id": "pVxxNHdItwra",
        "outputId": "6c331125-dc3f-42f5-9cdf-f6e55cae1e48"
      },
      "outputs": [
        {
          "data": {
            "text/plain": [
              "291.0"
            ]
          },
          "execution_count": 58,
          "metadata": {},
          "output_type": "execute_result"
        }
      ],
      "source": [
        "hispanic = round(dt['Mean Scale Score'][123:126].mean(),2)\n",
        "hispanic"
      ]
    },
    {
      "cell_type": "code",
      "execution_count": 59,
      "metadata": {
        "colab": {
          "base_uri": "https://localhost:8080/"
        },
        "id": "Y1jQspOnt8WF",
        "outputId": "c8c4773d-c087-4527-f808-d1727166cd0a"
      },
      "outputs": [
        {
          "data": {
            "text/plain": [
              "319.0"
            ]
          },
          "execution_count": 59,
          "metadata": {},
          "output_type": "execute_result"
        }
      ],
      "source": [
        "white = round(dt['Mean Scale Score'][144:147].mean(),2)\n",
        "white"
      ]
    },
    {
      "cell_type": "code",
      "execution_count": 60,
      "metadata": {
        "colab": {
          "base_uri": "https://localhost:8080/"
        },
        "id": "PGuPVJKruNiH",
        "outputId": "fc4ac667-7307-4fdf-b5ed-5a1370d4d13f"
      },
      "outputs": [
        {
          "data": {
            "text/plain": [
              "301.67"
            ]
          },
          "execution_count": 60,
          "metadata": {},
          "output_type": "execute_result"
        }
      ],
      "source": [
        "female = round(dt['Mean Scale Score'][165:168].mean(),2)\n",
        "female"
      ]
    },
    {
      "cell_type": "code",
      "execution_count": 61,
      "metadata": {
        "colab": {
          "base_uri": "https://localhost:8080/"
        },
        "id": "ERDuCTatuX6u",
        "outputId": "55810770-643a-4f61-c0cb-7c999340603d"
      },
      "outputs": [
        {
          "data": {
            "text/plain": [
              "299.0"
            ]
          },
          "execution_count": 61,
          "metadata": {},
          "output_type": "execute_result"
        }
      ],
      "source": [
        "male = round(dt['Mean Scale Score'][186:189].mean(),2)\n",
        "male"
      ]
    },
    {
      "cell_type": "code",
      "execution_count": 62,
      "metadata": {
        "colab": {
          "base_uri": "https://localhost:8080/"
        },
        "id": "immcj6QnuehG",
        "outputId": "ea531b36-15ae-42b1-eead-ccd6a604f0ba"
      },
      "outputs": [
        {
          "data": {
            "text/plain": [
              "307.33"
            ]
          },
          "execution_count": 62,
          "metadata": {},
          "output_type": "execute_result"
        }
      ],
      "source": [
        "notswd = round(dt['Mean Scale Score'][207:210].mean(),2)\n",
        "notswd"
      ]
    },
    {
      "cell_type": "code",
      "execution_count": 63,
      "metadata": {
        "colab": {
          "base_uri": "https://localhost:8080/"
        },
        "id": "73l2rELgulZl",
        "outputId": "e02793cd-cbc6-4d20-e6b5-9f7539c318e1"
      },
      "outputs": [
        {
          "data": {
            "text/plain": [
              "272.67"
            ]
          },
          "execution_count": 63,
          "metadata": {},
          "output_type": "execute_result"
        }
      ],
      "source": [
        "swd = round(dt['Mean Scale Score'][228:231].mean(),2)\n",
        "swd"
      ]
    },
    {
      "cell_type": "code",
      "execution_count": 64,
      "metadata": {
        "colab": {
          "base_uri": "https://localhost:8080/",
          "height": 400
        },
        "id": "xzIP-swLrIkS",
        "outputId": "9c3ff1e3-c995-48e2-c21b-7306726dbae3"
      },
      "outputs": [
        {
          "data": {
            "image/png": "[encoded data removed]",
            "text/plain": [
              "<Figure size 1440x360 with 1 Axes>"
            ]
          },
          "metadata": {
            "needs_background": "light"
          },
          "output_type": "display_data"
        }
      ],
      "source": [
        "x = [\"Asian\", \"White\", \"Not SWD\", \"Former ELL\", \"EP\", \"Female\", \"Male\", \"Hispanic\", \"Black\", \"ELL\", \"SWD\"]\n",
        "y = [asian, white, notswd, fell, ep, female, male, hispanic, black, ell, swd]\n",
        "#plt.barh(x, y)\n",
        "fig = plt.figure(figsize=(20,5))\n",
        "ax = fig.add_axes([0,0,1,1])\n",
        "ax.bar(x,y,color=['cyan','cyan','pink','blue','blue','purple','purple','cyan','cyan','blue','pink'])\n",
        "\n",
        "for index, value in enumerate(y):\n",
        "    plt.text(index, value, str(value),ha='center')\n",
        "plt.xlabel(\"Category\")\n",
        "plt.ylabel(\"Mean Scale Score\")\n",
        "plt.show()"
      ]
    },
    {
      "cell_type": "code",
      "execution_count": 65,
      "metadata": {
        "colab": {
          "base_uri": "https://localhost:8080/"
        },
        "id": "sHSYutWKH2Gs",
        "outputId": "3fda0556-e446-43a1-ab1b-5a12c9307e5e"
      },
      "outputs": [
        {
          "data": {
            "text/plain": [
              "13.33"
            ]
          },
          "execution_count": 65,
          "metadata": {},
          "output_type": "execute_result"
        }
      ],
      "source": [
        "ell = round(dt['% Level 3+4'][18:21].mean(),2)\n",
        "ell"
      ]
    },
    {
      "cell_type": "code",
      "execution_count": 66,
      "metadata": {
        "colab": {
          "base_uri": "https://localhost:8080/"
        },
        "id": "-4s5NgY_LPy_",
        "outputId": "939745d6-1447-40e9-b7c0-10889e19cd1c"
      },
      "outputs": [
        {
          "data": {
            "text/plain": [
              "36.23"
            ]
          },
          "execution_count": 66,
          "metadata": {},
          "output_type": "execute_result"
        }
      ],
      "source": [
        "ep = round(dt['% Level 3+4'][39:42].mean(),2)\n",
        "ep"
      ]
    },
    {
      "cell_type": "code",
      "execution_count": 67,
      "metadata": {
        "colab": {
          "base_uri": "https://localhost:8080/"
        },
        "id": "FiEW4GKjNVGu",
        "outputId": "0f7628c2-a145-4812-c711-dbcccdd12992"
      },
      "outputs": [
        {
          "data": {
            "text/plain": [
              "35.8"
            ]
          },
          "execution_count": 67,
          "metadata": {},
          "output_type": "execute_result"
        }
      ],
      "source": [
        "fell = round(dt['% Level 3+4'][60:63].mean(),2)\n",
        "fell"
      ]
    },
    {
      "cell_type": "code",
      "execution_count": 68,
      "metadata": {
        "colab": {
          "base_uri": "https://localhost:8080/"
        },
        "id": "69Gf5R0CNiSs",
        "outputId": "e9edb488-a655-42d5-f6db-f069a724ce01"
      },
      "outputs": [
        {
          "data": {
            "text/plain": [
              "65.13"
            ]
          },
          "execution_count": 68,
          "metadata": {},
          "output_type": "execute_result"
        }
      ],
      "source": [
        "asian = round(dt['% Level 3+4'][81:84].mean(),2)\n",
        "asian"
      ]
    },
    {
      "cell_type": "code",
      "execution_count": 69,
      "metadata": {
        "colab": {
          "base_uri": "https://localhost:8080/"
        },
        "id": "0ur8VX6FOW-e",
        "outputId": "1508c1c3-2b3f-4868-a375-5370fc26b37f"
      },
      "outputs": [
        {
          "data": {
            "text/plain": [
              "17.67"
            ]
          },
          "execution_count": 69,
          "metadata": {},
          "output_type": "execute_result"
        }
      ],
      "source": [
        "black = round(dt['% Level 3+4'][102:105].mean(),2)\n",
        "black"
      ]
    },
    {
      "cell_type": "code",
      "execution_count": 70,
      "metadata": {
        "colab": {
          "base_uri": "https://localhost:8080/"
        },
        "id": "TQnve73ROiDh",
        "outputId": "f93400eb-1faa-4bf5-bd7a-f80b66835f50"
      },
      "outputs": [
        {
          "data": {
            "text/plain": [
              "21.8"
            ]
          },
          "execution_count": 70,
          "metadata": {},
          "output_type": "execute_result"
        }
      ],
      "source": [
        "hispanic = round(dt['% Level 3+4'][123:126].mean(),2)\n",
        "hispanic"
      ]
    },
    {
      "cell_type": "code",
      "execution_count": 71,
      "metadata": {
        "colab": {
          "base_uri": "https://localhost:8080/"
        },
        "id": "Uhthzno5Ox9J",
        "outputId": "4102a490-5177-44a2-936e-24578105a1de"
      },
      "outputs": [
        {
          "data": {
            "text/plain": [
              "54.2"
            ]
          },
          "execution_count": 71,
          "metadata": {},
          "output_type": "execute_result"
        }
      ],
      "source": [
        "white = round(dt['% Level 3+4'][144:147].mean(),2)\n",
        "white"
      ]
    },
    {
      "cell_type": "code",
      "execution_count": 72,
      "metadata": {
        "colab": {
          "base_uri": "https://localhost:8080/"
        },
        "id": "vBywzGCmO52i",
        "outputId": "61e2e0c8-c0e0-40ed-9ac6-ad6f3755d201"
      },
      "outputs": [
        {
          "data": {
            "text/plain": [
              "33.77"
            ]
          },
          "execution_count": 72,
          "metadata": {},
          "output_type": "execute_result"
        }
      ],
      "source": [
        "female = round(dt['% Level 3+4'][165:168].mean(),2)\n",
        "female"
      ]
    },
    {
      "cell_type": "code",
      "execution_count": 73,
      "metadata": {
        "colab": {
          "base_uri": "https://localhost:8080/"
        },
        "id": "xVUX_5RMPKFQ",
        "outputId": "a876763f-1e26-45d0-f51e-28e240a75799"
      },
      "outputs": [
        {
          "data": {
            "text/plain": [
              "32.37"
            ]
          },
          "execution_count": 73,
          "metadata": {},
          "output_type": "execute_result"
        }
      ],
      "source": [
        "male = round(dt['% Level 3+4'][186:189].mean(),2)\n",
        "male"
      ]
    },
    {
      "cell_type": "code",
      "execution_count": 74,
      "metadata": {
        "colab": {
          "base_uri": "https://localhost:8080/"
        },
        "id": "dJPDmFHJPTb-",
        "outputId": "0227bb57-fab9-493f-feaa-31ac619f6dc4"
      },
      "outputs": [
        {
          "data": {
            "text/plain": [
              "38.9"
            ]
          },
          "execution_count": 74,
          "metadata": {},
          "output_type": "execute_result"
        }
      ],
      "source": [
        "notswd = round(dt['% Level 3+4'][207:210].mean(),2)\n",
        "notswd"
      ]
    },
    {
      "cell_type": "code",
      "execution_count": 75,
      "metadata": {
        "colab": {
          "base_uri": "https://localhost:8080/"
        },
        "id": "NVYlDSLySQWp",
        "outputId": "583f32de-dc7c-400c-de33-97ec848d58be"
      },
      "outputs": [
        {
          "data": {
            "text/plain": [
              "10.37"
            ]
          },
          "execution_count": 75,
          "metadata": {},
          "output_type": "execute_result"
        }
      ],
      "source": [
        "swd = round(dt['% Level 3+4'][228:231].mean(),2)\n",
        "swd"
      ]
    },
    {
      "cell_type": "code",
      "execution_count": 76,
      "metadata": {
        "colab": {
          "base_uri": "https://localhost:8080/",
          "height": 402
        },
        "id": "kYox_T_-Sfii",
        "outputId": "88af0513-2946-45ee-9a3a-e35a438deefc"
      },
      "outputs": [
        {
          "data": {
            "image/png": "[encoded data removed]",
            "text/plain": [
              "<Figure size 1440x360 with 1 Axes>"
            ]
          },
          "metadata": {
            "needs_background": "light"
          },
          "output_type": "display_data"
        }
      ],
      "source": [
        "x = [\"Asian\", \"White\", \"Not SWD\", \"EP\", \"Former ELL\", \"Female\", \"Male\", \"Hispanic\", \"Black\", \"ELL\", \"SWD\"]\n",
        "y = [asian, white, notswd, ep, fell, female, male, hispanic, black, ell, swd]\n",
        "#plt.barh(x, y)\n",
        "fig = plt.figure(figsize=(20,5))\n",
        "ax = fig.add_axes([0,0,1,1])\n",
        "ax.bar(x,y,color=['cyan','cyan','pink','blue','blue','purple','purple','cyan','cyan','blue','pink'])\n",
        "\n",
        "for index, value in enumerate(y):\n",
        "    plt.text(index, value, str(value),ha='center')\n",
        "plt.xlabel(\"Category\")\n",
        "plt.ylabel(\"% of Students that meet or exceed expectations\")\n",
        "plt.show()"
      ]
    },
    {
      "cell_type": "code",
      "execution_count": 77,
      "metadata": {
        "colab": {
          "base_uri": "https://localhost:8080/",
          "height": 335
        },
        "id": "aIyNZHNPQvTo",
        "outputId": "5e01a27f-bd75-48e1-a77b-234907681f97"
      },
      "outputs": [
        {
          "data": {
            "image/png": "[encoded data removed]",
            "text/plain": [
              "<Figure size 1440x360 with 1 Axes>"
            ]
          },
          "metadata": {
            "needs_background": "light"
          },
          "output_type": "display_data"
        }
      ],
      "source": [
        "third = [dt['% Level 3+4'][81], dt['% Level 3+4'][144], dt['% Level 3+4'][207], dt['% Level 3+4'][39], dt['% Level 3+4'][60], dt['% Level 3+4'][165],\n",
        "         dt['% Level 3+4'][186],dt['% Level 3+4'][123],dt['% Level 3+4'][102], dt['% Level 3+4'][18], dt['% Level 3+4'][228]]\n",
        "fourth = [dt['% Level 3+4'][82], dt['% Level 3+4'][145], dt['% Level 3+4'][208], dt['% Level 3+4'][40], dt['% Level 3+4'][61], dt['% Level 3+4'][166],\n",
        "          dt['% Level 3+4'][187],dt['% Level 3+4'][124], dt['% Level 3+4'][103], dt['% Level 3+4'][19], dt['% Level 3+4'][229]]\n",
        "fifth = [dt['% Level 3+4'][83], dt['% Level 3+4'][146], dt['% Level 3+4'][209], dt['% Level 3+4'][41], dt['% Level 3+4'][62], dt['% Level 3+4'][167],\n",
        "         dt['% Level 3+4'][188], dt['% Level 3+4'][125], dt['% Level 3+4'][104], dt['% Level 3+4'][20], dt['% Level 3+4'][230]]\n",
        "index = [\"Asian\", \"White\", \"Not SWD\", \"EP\", \"Former ELL\", \"Female\", \"Male\", \"Hispanic\", \"Black\", \"ELL\", \"SWD\"]\n",
        "df = pd.DataFrame({'2013': third, '2014': fourth, '2015': fifth}, index=index)\n",
        "ax = df.plot.bar(rot=0,figsize=(20,5),xlabel='Category',ylabel='% of Students that meet or exceed expectations',color={\"2013\": \"red\", \"2014\": \"gold\", \"2015\": \"green\"})"
      ]
    }
  ],
  "metadata": {
    "colab": {
      "name": "dataset blog post",
      "provenance": []
    },
    "kernelspec": {
      "display_name": "Python 3",
      "name": "python3"
    },
    "language_info": {
      "codemirror_mode": {
        "name": "ipython",
        "version": 3
      },
      "file_extension": ".py",
      "mimetype": "text/x-python",
      "name": "python",
      "nbconvert_exporter": "python",
      "pygments_lexer": "ipython3",
      "version": "3.9.7"
    }
  },
  "nbformat": 4,
  "nbformat_minor": 0
}
